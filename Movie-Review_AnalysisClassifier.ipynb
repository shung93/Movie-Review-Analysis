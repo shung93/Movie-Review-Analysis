{
 "cells": [
  {
   "cell_type": "code",
   "execution_count": 1,
   "metadata": {},
   "outputs": [],
   "source": [
    "%matplotlib inline\n",
    "import pandas as pd\n",
    "import numpy as np\n",
    "import matplotlib.pyplot as plt\n",
    "\n",
    "#hint: Consult the scikit-learn documentation to\n",
    "#      learn about what these classes do do\n",
    "from sklearn.model_selection import cross_val_score\n",
    "from sklearn.model_selection import train_test_split\n",
    "from sklearn.naive_bayes import MultinomialNB\n",
    "from sklearn.feature_extraction.text import CountVectorizer\n",
    "import statsmodels.formula.api as smf\n",
    "from sklearn.metrics import mean_squared_error\n",
    "from sklearn.preprocessing import StandardScaler\n",
    "from sklearn.decomposition import PCA\n",
    "\n",
    "# ignore warnings\n",
    "import warnings; warnings.simplefilter('ignore')"
   ]
  },
  {
   "cell_type": "markdown",
   "metadata": {},
   "source": [
    "## Analysis of Movie Review from Rotten Tomatoes and Classifier\n"
   ]
  },
  {
   "cell_type": "markdown",
   "metadata": {},
   "source": [
    "---\n",
    "\n",
    "## Part 1: Descriptive analysis\n",
    "\n"
   ]
  },
  {
   "cell_type": "code",
   "execution_count": 2,
   "metadata": {},
   "outputs": [],
   "source": [
    "reviews = pd.read_csv('reviews.csv')\n",
    "movies = pd.read_csv(\"movies.dat\", delimiter='\\t')\n",
    "\n",
    "reviews = reviews[~reviews.quote.isnull()]\n",
    "reviews = reviews[reviews.fresh != 'none']\n",
    "reviews = reviews[reviews.quote.str.len() > 0]"
   ]
  },
  {
   "cell_type": "markdown",
   "metadata": {},
   "source": [
    "### 1.1: Basic features of the dataset\n",
    "\n",
    "\n"
   ]
  },
  {
   "cell_type": "code",
   "execution_count": 3,
   "metadata": {},
   "outputs": [
    {
     "name": "stdout",
     "output_type": "stream",
     "text": [
      "Number of reviews: 13419\n",
      "Number of unique reviews (quotes): 12814\n",
      "Number of unique critics: 540\n",
      "Number of unique movies (titles) in the reviews dataset: 1720\n",
      "Number of unique movies (titles) in the movies dataset: 9423\n",
      "Number of unique publications in the reviews dataset: 64\n"
     ]
    }
   ],
   "source": [
    "# enter your code below\n",
    "\n",
    "print(\"Number of reviews: %i\" % len(reviews))\n",
    "\n",
    "print(\"Number of unique reviews (quotes):\", reviews['quote'].nunique()) \n",
    "\n",
    "print(\"Number of unique critics:\", reviews['critic'].nunique()) # assuming critics with the same name are the same people\n",
    "\n",
    "print(\"Number of unique movies (titles) in the reviews dataset:\", reviews['rtid'].nunique()) # movies may have same name so using rtID as the identifier\n",
    "\n",
    "print(\"Number of unique movies (titles) in the movies dataset:\", movies['id'].nunique()) # movies may have the same name (i.e., The Three Musketeers); using ID as identifier\n",
    "\n",
    "print(\"Number of unique publications in the reviews dataset:\", reviews['publication'].nunique()) # assuming publications with same name are the same publication"
   ]
  },
  {
   "cell_type": "markdown",
   "metadata": {},
   "source": [
    "### 1.2 Number of reviews per reviewer\n",
    "\n"
   ]
  },
  {
   "cell_type": "code",
   "execution_count": 4,
   "metadata": {},
   "outputs": [],
   "source": [
    "# reviews.groupby('imdb').apply(pd.DataFrame.sort_values, 'rtid')"
   ]
  },
  {
   "cell_type": "code",
   "execution_count": 5,
   "metadata": {},
   "outputs": [],
   "source": [
    "# enter your code here\n",
    "# reviews.groupby(['critic']).critic.count()\n",
    "\n",
    "reviews_reviewer_counts = reviews['critic'].value_counts() # getting unique values (or reviews) per critic\n",
    "reviews_reviewer_counts = pd.DataFrame(reviews_reviewer_counts) # convert to dataframe \n",
    "# rename index and columns\n",
    "reviews_reviewer_counts.index.names = ['critic']\n",
    "reviews_reviewer_counts.rename(columns={'critic':'review_count'}, inplace=True)"
   ]
  },
  {
   "cell_type": "code",
   "execution_count": 6,
   "metadata": {},
   "outputs": [
    {
     "data": {
      "image/png": "[encoded data removed]",
      "text/plain": [
       "<Figure size 576x288 with 1 Axes>"
      ]
     },
     "metadata": {
      "needs_background": "light"
     },
     "output_type": "display_data"
    }
   ],
   "source": [
    "# plotting the histogram\n",
    "fig, ax = plt.subplots(figsize=(8, 4))\n",
    "ax.hist(reviews_reviewer_counts['review_count'], range=[0,30], bins = 30, align='mid', edgecolor='black')\n",
    "ax.set_yscale('log', nonposy='clip')\n",
    "ax.spines['right'].set_visible(False)\n",
    "ax.spines['top'].set_visible(False)\n",
    "ax.set_title('Distribution of Reviewers per Reviewer from Reviews Data (Log Scale)')\n",
    "ax.set_ylabel('Number of Reviews (Log Scale)')\n",
    "ax.set_xlabel('Number of Reviewers')\n",
    "plt.show()"
   ]
  },
  {
   "cell_type": "code",
   "execution_count": 7,
   "metadata": {},
   "outputs": [
    {
     "data": {
      "text/html": [
       "<div>\n",
       "<style scoped>\n",
       "    .dataframe tbody tr th:only-of-type {\n",
       "        vertical-align: middle;\n",
       "    }\n",
       "\n",
       "    .dataframe tbody tr th {\n",
       "        vertical-align: top;\n",
       "    }\n",
       "\n",
       "    .dataframe thead th {\n",
       "        text-align: right;\n",
       "    }\n",
       "</style>\n",
       "<table border=\"1\" class=\"dataframe\">\n",
       "  <thead>\n",
       "    <tr style=\"text-align: right;\">\n",
       "      <th></th>\n",
       "      <th></th>\n",
       "      <th>first_review_date</th>\n",
       "      <th>last_review_date</th>\n",
       "      <th>review_count</th>\n",
       "    </tr>\n",
       "    <tr>\n",
       "      <th>critic</th>\n",
       "      <th>publication</th>\n",
       "      <th></th>\n",
       "      <th></th>\n",
       "      <th></th>\n",
       "    </tr>\n",
       "  </thead>\n",
       "  <tbody>\n",
       "    <tr>\n",
       "      <th>Bosley Crowther</th>\n",
       "      <th>New York Times</th>\n",
       "      <td>2000-01-01</td>\n",
       "      <td>2008-05-06</td>\n",
       "      <td>137</td>\n",
       "    </tr>\n",
       "    <tr>\n",
       "      <th rowspan=\"3\" valign=\"top\">Dave Kehr</th>\n",
       "      <th>Chicago Reader</th>\n",
       "      <td>2000-01-01</td>\n",
       "      <td>2013-11-06</td>\n",
       "      <td>317</td>\n",
       "    </tr>\n",
       "    <tr>\n",
       "      <th>Chicago Tribune</th>\n",
       "      <td>2013-02-20</td>\n",
       "      <td>2013-11-20</td>\n",
       "      <td>37</td>\n",
       "    </tr>\n",
       "    <tr>\n",
       "      <th>New York Daily News</th>\n",
       "      <td>2013-08-02</td>\n",
       "      <td>2013-10-22</td>\n",
       "      <td>6</td>\n",
       "    </tr>\n",
       "    <tr>\n",
       "      <th>Derek Adams</th>\n",
       "      <th>Time Out</th>\n",
       "      <td>2006-01-26</td>\n",
       "      <td>2009-10-04</td>\n",
       "      <td>154</td>\n",
       "    </tr>\n",
       "    <tr>\n",
       "      <th>Desson Thomson</th>\n",
       "      <th>Washington Post</th>\n",
       "      <td>2000-01-01</td>\n",
       "      <td>2012-10-08</td>\n",
       "      <td>373</td>\n",
       "    </tr>\n",
       "    <tr>\n",
       "      <th>Edward Guthmann</th>\n",
       "      <th>San Francisco Chronicle</th>\n",
       "      <td>2000-01-01</td>\n",
       "      <td>2003-04-04</td>\n",
       "      <td>121</td>\n",
       "    </tr>\n",
       "    <tr>\n",
       "      <th>Emanuel Levy</th>\n",
       "      <th>Variety</th>\n",
       "      <td>2000-01-01</td>\n",
       "      <td>2010-08-06</td>\n",
       "      <td>110</td>\n",
       "    </tr>\n",
       "    <tr>\n",
       "      <th>Geoff Andrew</th>\n",
       "      <th>Time Out</th>\n",
       "      <td>2005-08-11</td>\n",
       "      <td>2012-04-05</td>\n",
       "      <td>361</td>\n",
       "    </tr>\n",
       "    <tr>\n",
       "      <th>Hal Hinson</th>\n",
       "      <th>Washington Post</th>\n",
       "      <td>2000-01-01</td>\n",
       "      <td>2013-06-26</td>\n",
       "      <td>174</td>\n",
       "    </tr>\n",
       "    <tr>\n",
       "      <th>James Berardinelli</th>\n",
       "      <th>ReelViews</th>\n",
       "      <td>1800-01-01</td>\n",
       "      <td>2012-02-07</td>\n",
       "      <td>833</td>\n",
       "    </tr>\n",
       "    <tr>\n",
       "      <th>Janet Maslin</th>\n",
       "      <th>New York Times</th>\n",
       "      <td>2000-01-01</td>\n",
       "      <td>2010-09-07</td>\n",
       "      <td>526</td>\n",
       "    </tr>\n",
       "    <tr>\n",
       "      <th rowspan=\"3\" valign=\"top\">Joe Baltake</th>\n",
       "      <th>Passionate Moviegoer</th>\n",
       "      <td>2007-02-13</td>\n",
       "      <td>2007-08-25</td>\n",
       "      <td>4</td>\n",
       "    </tr>\n",
       "    <tr>\n",
       "      <th>Philadelphia Daily News</th>\n",
       "      <td>2013-06-26</td>\n",
       "      <td>2013-08-04</td>\n",
       "      <td>6</td>\n",
       "    </tr>\n",
       "    <tr>\n",
       "      <th>Sacramento Bee</th>\n",
       "      <td>2000-01-01</td>\n",
       "      <td>2004-12-22</td>\n",
       "      <td>221</td>\n",
       "    </tr>\n",
       "    <tr>\n",
       "      <th>Jonathan Rosenbaum</th>\n",
       "      <th>Chicago Reader</th>\n",
       "      <td>1988-07-11</td>\n",
       "      <td>2013-10-22</td>\n",
       "      <td>420</td>\n",
       "    </tr>\n",
       "    <tr>\n",
       "      <th>Kenneth Turan</th>\n",
       "      <th>Los Angeles Times</th>\n",
       "      <td>2000-01-01</td>\n",
       "      <td>2013-10-05</td>\n",
       "      <td>282</td>\n",
       "    </tr>\n",
       "    <tr>\n",
       "      <th>Kevin Thomas</th>\n",
       "      <th>Los Angeles Times</th>\n",
       "      <td>2000-01-01</td>\n",
       "      <td>2013-11-02</td>\n",
       "      <td>145</td>\n",
       "    </tr>\n",
       "    <tr>\n",
       "      <th>Liam Lacey</th>\n",
       "      <th>Globe and Mail</th>\n",
       "      <td>2001-08-24</td>\n",
       "      <td>2012-04-04</td>\n",
       "      <td>111</td>\n",
       "    </tr>\n",
       "    <tr>\n",
       "      <th>Lisa Schwarzbaum</th>\n",
       "      <th>Entertainment Weekly</th>\n",
       "      <td>1979-01-01</td>\n",
       "      <td>2012-08-15</td>\n",
       "      <td>117</td>\n",
       "    </tr>\n",
       "    <tr>\n",
       "      <th rowspan=\"2\" valign=\"top\">Michael Wilmington</th>\n",
       "      <th>Chicago Tribune</th>\n",
       "      <td>2000-01-01</td>\n",
       "      <td>2013-11-18</td>\n",
       "      <td>91</td>\n",
       "    </tr>\n",
       "    <tr>\n",
       "      <th>Los Angeles Times</th>\n",
       "      <td>2012-06-03</td>\n",
       "      <td>2013-11-21</td>\n",
       "      <td>12</td>\n",
       "    </tr>\n",
       "    <tr>\n",
       "      <th>Mick LaSalle</th>\n",
       "      <th>San Francisco Chronicle</th>\n",
       "      <td>2000-01-01</td>\n",
       "      <td>2009-11-25</td>\n",
       "      <td>280</td>\n",
       "    </tr>\n",
       "    <tr>\n",
       "      <th>Owen Gleiberman</th>\n",
       "      <th>Entertainment Weekly</th>\n",
       "      <td>1800-01-01</td>\n",
       "      <td>2011-09-07</td>\n",
       "      <td>241</td>\n",
       "    </tr>\n",
       "    <tr>\n",
       "      <th>Peter Stack</th>\n",
       "      <th>San Francisco Chronicle</th>\n",
       "      <td>2000-01-01</td>\n",
       "      <td>2002-06-18</td>\n",
       "      <td>138</td>\n",
       "    </tr>\n",
       "    <tr>\n",
       "      <th>Richard Corliss</th>\n",
       "      <th>TIME Magazine</th>\n",
       "      <td>2003-12-16</td>\n",
       "      <td>2013-11-06</td>\n",
       "      <td>104</td>\n",
       "    </tr>\n",
       "    <tr>\n",
       "      <th rowspan=\"2\" valign=\"top\">Richard Schickel</th>\n",
       "      <th>TIME Magazine</th>\n",
       "      <td>2007-06-27</td>\n",
       "      <td>2013-08-05</td>\n",
       "      <td>105</td>\n",
       "    </tr>\n",
       "    <tr>\n",
       "      <th>The Atlantic</th>\n",
       "      <td>2000-01-01</td>\n",
       "      <td>2000-01-01</td>\n",
       "      <td>1</td>\n",
       "    </tr>\n",
       "    <tr>\n",
       "      <th>Rick Groen</th>\n",
       "      <th>Globe and Mail</th>\n",
       "      <td>2002-03-19</td>\n",
       "      <td>2009-08-14</td>\n",
       "      <td>129</td>\n",
       "    </tr>\n",
       "    <tr>\n",
       "      <th>Rita Kempley</th>\n",
       "      <th>Washington Post</th>\n",
       "      <td>2000-01-01</td>\n",
       "      <td>2013-11-02</td>\n",
       "      <td>236</td>\n",
       "    </tr>\n",
       "    <tr>\n",
       "      <th rowspan=\"2\" valign=\"top\">Roger Ebert</th>\n",
       "      <th>At the Movies</th>\n",
       "      <td>2000-01-01</td>\n",
       "      <td>2000-01-01</td>\n",
       "      <td>57</td>\n",
       "    </tr>\n",
       "    <tr>\n",
       "      <th>Chicago Sun-Times</th>\n",
       "      <td>2000-01-01</td>\n",
       "      <td>2013-06-11</td>\n",
       "      <td>1093</td>\n",
       "    </tr>\n",
       "    <tr>\n",
       "      <th>Stephen Holden</th>\n",
       "      <th>New York Times</th>\n",
       "      <td>2000-01-01</td>\n",
       "      <td>2009-02-06</td>\n",
       "      <td>166</td>\n",
       "    </tr>\n",
       "    <tr>\n",
       "      <th>Susan Stark</th>\n",
       "      <th>Detroit News</th>\n",
       "      <td>2000-01-01</td>\n",
       "      <td>2002-10-25</td>\n",
       "      <td>167</td>\n",
       "    </tr>\n",
       "    <tr>\n",
       "      <th>Todd McCarthy</th>\n",
       "      <th>Variety</th>\n",
       "      <td>2000-01-01</td>\n",
       "      <td>2012-10-09</td>\n",
       "      <td>223</td>\n",
       "    </tr>\n",
       "    <tr>\n",
       "      <th>Variety Staff</th>\n",
       "      <th>Variety</th>\n",
       "      <td>2001-02-13</td>\n",
       "      <td>2012-08-15</td>\n",
       "      <td>449</td>\n",
       "    </tr>\n",
       "    <tr>\n",
       "      <th>Vincent Canby</th>\n",
       "      <th>New York Times</th>\n",
       "      <td>2000-01-01</td>\n",
       "      <td>2013-07-29</td>\n",
       "      <td>207</td>\n",
       "    </tr>\n",
       "  </tbody>\n",
       "</table>\n",
       "</div>"
      ],
      "text/plain": [
       "                                           first_review_date last_review_date  \\\n",
       "critic             publication                                                  \n",
       "Bosley Crowther    New York Times                 2000-01-01       2008-05-06   \n",
       "Dave Kehr          Chicago Reader                 2000-01-01       2013-11-06   \n",
       "                   Chicago Tribune                2013-02-20       2013-11-20   \n",
       "                   New York Daily News            2013-08-02       2013-10-22   \n",
       "Derek Adams        Time Out                       2006-01-26       2009-10-04   \n",
       "Desson Thomson     Washington Post                2000-01-01       2012-10-08   \n",
       "Edward Guthmann    San Francisco Chronicle        2000-01-01       2003-04-04   \n",
       "Emanuel Levy       Variety                        2000-01-01       2010-08-06   \n",
       "Geoff Andrew       Time Out                       2005-08-11       2012-04-05   \n",
       "Hal Hinson         Washington Post                2000-01-01       2013-06-26   \n",
       "James Berardinelli ReelViews                      1800-01-01       2012-02-07   \n",
       "Janet Maslin       New York Times                 2000-01-01       2010-09-07   \n",
       "Joe Baltake        Passionate Moviegoer           2007-02-13       2007-08-25   \n",
       "                   Philadelphia Daily News        2013-06-26       2013-08-04   \n",
       "                   Sacramento Bee                 2000-01-01       2004-12-22   \n",
       "Jonathan Rosenbaum Chicago Reader                 1988-07-11       2013-10-22   \n",
       "Kenneth Turan      Los Angeles Times              2000-01-01       2013-10-05   \n",
       "Kevin Thomas       Los Angeles Times              2000-01-01       2013-11-02   \n",
       "Liam Lacey         Globe and Mail                 2001-08-24       2012-04-04   \n",
       "Lisa Schwarzbaum   Entertainment Weekly           1979-01-01       2012-08-15   \n",
       "Michael Wilmington Chicago Tribune                2000-01-01       2013-11-18   \n",
       "                   Los Angeles Times              2012-06-03       2013-11-21   \n",
       "Mick LaSalle       San Francisco Chronicle        2000-01-01       2009-11-25   \n",
       "Owen Gleiberman    Entertainment Weekly           1800-01-01       2011-09-07   \n",
       "Peter Stack        San Francisco Chronicle        2000-01-01       2002-06-18   \n",
       "Richard Corliss    TIME Magazine                  2003-12-16       2013-11-06   \n",
       "Richard Schickel   TIME Magazine                  2007-06-27       2013-08-05   \n",
       "                   The Atlantic                   2000-01-01       2000-01-01   \n",
       "Rick Groen         Globe and Mail                 2002-03-19       2009-08-14   \n",
       "Rita Kempley       Washington Post                2000-01-01       2013-11-02   \n",
       "Roger Ebert        At the Movies                  2000-01-01       2000-01-01   \n",
       "                   Chicago Sun-Times              2000-01-01       2013-06-11   \n",
       "Stephen Holden     New York Times                 2000-01-01       2009-02-06   \n",
       "Susan Stark        Detroit News                   2000-01-01       2002-10-25   \n",
       "Todd McCarthy      Variety                        2000-01-01       2012-10-09   \n",
       "Variety Staff      Variety                        2001-02-13       2012-08-15   \n",
       "Vincent Canby      New York Times                 2000-01-01       2013-07-29   \n",
       "\n",
       "                                            review_count  \n",
       "critic             publication                            \n",
       "Bosley Crowther    New York Times                    137  \n",
       "Dave Kehr          Chicago Reader                    317  \n",
       "                   Chicago Tribune                    37  \n",
       "                   New York Daily News                 6  \n",
       "Derek Adams        Time Out                          154  \n",
       "Desson Thomson     Washington Post                   373  \n",
       "Edward Guthmann    San Francisco Chronicle           121  \n",
       "Emanuel Levy       Variety                           110  \n",
       "Geoff Andrew       Time Out                          361  \n",
       "Hal Hinson         Washington Post                   174  \n",
       "James Berardinelli ReelViews                         833  \n",
       "Janet Maslin       New York Times                    526  \n",
       "Joe Baltake        Passionate Moviegoer                4  \n",
       "                   Philadelphia Daily News             6  \n",
       "                   Sacramento Bee                    221  \n",
       "Jonathan Rosenbaum Chicago Reader                    420  \n",
       "Kenneth Turan      Los Angeles Times                 282  \n",
       "Kevin Thomas       Los Angeles Times                 145  \n",
       "Liam Lacey         Globe and Mail                    111  \n",
       "Lisa Schwarzbaum   Entertainment Weekly              117  \n",
       "Michael Wilmington Chicago Tribune                    91  \n",
       "                   Los Angeles Times                  12  \n",
       "Mick LaSalle       San Francisco Chronicle           280  \n",
       "Owen Gleiberman    Entertainment Weekly              241  \n",
       "Peter Stack        San Francisco Chronicle           138  \n",
       "Richard Corliss    TIME Magazine                     104  \n",
       "Richard Schickel   TIME Magazine                     105  \n",
       "                   The Atlantic                        1  \n",
       "Rick Groen         Globe and Mail                    129  \n",
       "Rita Kempley       Washington Post                   236  \n",
       "Roger Ebert        At the Movies                      57  \n",
       "                   Chicago Sun-Times                1093  \n",
       "Stephen Holden     New York Times                    166  \n",
       "Susan Stark        Detroit News                      167  \n",
       "Todd McCarthy      Variety                           223  \n",
       "Variety Staff      Variety                           449  \n",
       "Vincent Canby      New York Times                    207  "
      ]
     },
     "execution_count": 7,
     "metadata": {},
     "output_type": "execute_result"
    }
   ],
   "source": [
    "# enter your code here\n",
    "top_30_critics_list = reviews_reviewer_counts.head(30).index.values.tolist() # get top 30 critics from previous grouped dataframe\n",
    "top_30_critics_df = reviews[reviews['critic'].isin(top_30_critics_list)] # filter out critics from review dataframe\n",
    "top_30_critics_df['review_datetime'] = pd.to_datetime(top_30_critics_df['review_date'])\n",
    "\n",
    "critics_grouped = top_30_critics_df.groupby(['critic', 'publication']) # group by each critic and corresponding publication\n",
    "critics_grouped = critics_grouped.agg({'review_datetime':{'first_review_date':np.min,'last_review_date':np.max}}) # get first and last date of review per each critic and per the publication they worked for\n",
    "\n",
    "critics_grouped_count = top_30_critics_df.groupby(['critic', 'publication']).count() # get the count \n",
    "\n",
    "top_critic_info = pd.merge(critics_grouped, critics_grouped_count, on=['critic', 'publication'], how='outer') # merge dataframes\n",
    "\n",
    "drop_columns = top_critic_info.columns[2:-1].tolist()\n",
    "top_critic_info.drop(drop_columns, axis=1, inplace=True) # fix columns\n",
    "top_critic_info.columns = ['first_review_date','last_review_date','review_count'] # rename columns\n",
    "\n",
    "top_critic_info # sorted by first name"
   ]
  },
  {
   "cell_type": "code",
   "execution_count": 8,
   "metadata": {},
   "outputs": [],
   "source": [
    "movies_df = movies.copy() # create copy for manipulation (to not alter the original)\n",
    "movies_df['rtAllCriticsRating'] = pd.to_numeric(movies_df['rtAllCriticsRating'], errors='coerce') # convert to numeric; convert NAs to NaNs\n",
    "movie_years = movies_df.year[movies_df['rtAllCriticsRating']>0] # filter year column where rating > 0\n",
    "movie_ratings = movies_df.rtAllCriticsRating[movies_df['rtAllCriticsRating']>0] # filter ratings column where rating > 0\n",
    "\n",
    "movie_df1 = pd.DataFrame({'year': movie_years, 'rating':movie_ratings})\n",
    "movie_rating_averages = movie_df1.groupby(['year']).mean().reset_index()"
   ]
  },
  {
   "cell_type": "code",
   "execution_count": 9,
   "metadata": {},
   "outputs": [
    {
     "data": {
      "image/png": "[encoded data removed]",
      "text/plain": [
       "<Figure size 792x288 with 1 Axes>"
      ]
     },
     "metadata": {
      "needs_background": "light"
     },
     "output_type": "display_data"
    }
   ],
   "source": [
    "# enter your code here\n",
    "\n",
    "fig = plt.figure(figsize=(11, 4))\n",
    "ax = fig.add_subplot(111)\n",
    "\n",
    "ax.scatter(x=movie_df1['year'], y=movie_df1['rating'], alpha = 0.5, s=10, color='#5DADE2')\n",
    "ax.set_xlim(movie_df1['year'].min()-5, movie_df1['year'].max()+5) # changing the xlimits\n",
    "ax.set_ylim(movie_df1['rating'].min()-1, movie_df1['rating'].max()+1) # changing ylimits\n",
    "ax.set_xticks(np.arange(1900, 2020, 10)) # spacing out xticks \n",
    "ax.set_yticks(np.arange(1, 11, 1)) # spacing out yticks\n",
    "ax.spines['right'].set_visible(False)\n",
    "ax.spines['top'].set_visible(False)\n",
    "ax.set_title('Movie Ratings Over Time')\n",
    "ax.set_ylabel('Movie Ratings (1 through 10)')\n",
    "ax.set_xlabel('Year')\n",
    "\n",
    "ax.plot(movie_rating_averages['year'], movie_rating_averages['rating'], c='red') # plotting average trend of ratings\n",
    "\n",
    "ax.annotate('Avg Rating (by year)', xy=(1900.3,8.4))\n",
    "plt.show()"
   ]
  },
  {
   "cell_type": "markdown",
   "metadata": {},
   "source": [
    "\n",
    "Overall, there is a downward trend of reviews as the years have gone on. The average review in 1900 was around 7.5, although there was only 1 review for this year. Alternatively, recent years have added more negative reviews, giving the plot a downward trend. \n",
    "\n",
    "There may be a downward trend as an increase in production in movies may make critics more critical and only choose to give high ratings to movies that are truly 'good' in their eyes. \n",
    "\n",
    "It may be worth noting that movie reviews have trended towards a rating of '5,' which may mean that the movie ratings are being more normally distributed in more recent years. This may indicate that critics are trying to be more 'fair' when rating movies by not giving movies too high or too low of a rating. "
   ]
  },
  {
   "cell_type": "markdown",
   "metadata": {},
   "source": [
    "---\n",
    "\n",
    "## Part 2\n",
    "\n"
   ]
  },
  {
   "cell_type": "code",
   "execution_count": 10,
   "metadata": {},
   "outputs": [
    {
     "name": "stdout",
     "output_type": "stream",
     "text": [
      "Original text is:\n",
      " machine learning rocks\n",
      "machine learning rules\n",
      "rocks rocks rules\n",
      "\n",
      "Transformed text vector is \n",
      " [[1 1 1 0]\n",
      " [1 1 0 1]\n",
      " [0 0 2 1]]\n",
      "\n",
      "Words for each feature:\n",
      "['learning', 'machine', 'rocks', 'rules']\n"
     ]
    }
   ],
   "source": [
    "from sklearn.feature_extraction.text import CountVectorizer\n",
    "\n",
    "text = ['machine learning rocks', 'machine learning rules', 'rocks rocks rules']\n",
    "print(\"Original text is:\\n\", '\\n'.join(text))\n",
    "\n",
    "vectorizer = CountVectorizer(min_df=0)\n",
    "\n",
    "# call `fit` to build the vocabulary\n",
    "vectorizer.fit(text)\n",
    "\n",
    "# call `transform` to convert text to a bag of words\n",
    "x = vectorizer.transform(text)\n",
    "\n",
    "# CountVectorizer uses a sparse array to save memory, but it's easier in this assignment to \n",
    "# convert back to a \"normal\" numpy array\n",
    "x = x.toarray()\n",
    "\n",
    "print()\n",
    "print(\"Transformed text vector is \\n\", x)\n",
    "\n",
    "# `get_feature_names` tracks which word is associated with each column of the transformed x\n",
    "print()\n",
    "print(\"Words for each feature:\")\n",
    "print(vectorizer.get_feature_names())"
   ]
  },
  {
   "cell_type": "markdown",
   "metadata": {},
   "source": [
    "### 2.1 Create your X input and Y output\n",
    "\n"
   ]
  },
  {
   "cell_type": "code",
   "execution_count": 11,
   "metadata": {},
   "outputs": [],
   "source": [
    "\"\"\"\n",
    "Function\n",
    "--------\n",
    "make_xy\n",
    "\n",
    "Build a bag-of-words training set for the review data\n",
    "\n",
    "Parameters\n",
    "-----------\n",
    "reviews : Pandas DataFrame\n",
    "    The review data from above\n",
    "    \n",
    "vectorizer : CountVectorizer object (optional)\n",
    "    A CountVectorizer object to use. If None,\n",
    "    then create and fit a new CountVectorizer.\n",
    "    Otherwise, re-fit the provided CountVectorizer\n",
    "    using the reviews data\n",
    "    \n",
    "Returns\n",
    "-------\n",
    "X : numpy array (dims: nreview, nwords)\n",
    "    Bag-of-words representation for each review.\n",
    "Y : numpy array (dims: nreview)\n",
    "    1/0 array. 1 = fresh review, 0 = rotten review\n",
    "\n",
    "Examples\n",
    "--------\n",
    "X, Y = make_xy(reviews)\n",
    "\"\"\"\n",
    "def make_xy(reviews, vectorizer=None, min_df=1):\n",
    "    #Your code here    \n",
    "    if vectorizer == None:\n",
    "        vectorizer=CountVectorizer(min_df=min_df)\n",
    "        \n",
    "    X = vectorizer.fit_transform(reviews['quote'])\n",
    "    Y = reviews['fresh'].replace(to_replace=['fresh', 'rotten'], value=[1, 0]).values\n",
    "    feature_names = vectorizer.get_feature_names() # return feature names for later part of assignment\n",
    "    \n",
    "    return X, Y, feature_names\n"
   ]
  },
  {
   "cell_type": "code",
   "execution_count": 12,
   "metadata": {},
   "outputs": [],
   "source": [
    "X, Y, feature_names = make_xy(reviews)"
   ]
  },
  {
   "cell_type": "markdown",
   "metadata": {},
   "source": [
    "### 2.2 Test-Train split\n",
    "\n"
   ]
  },
  {
   "cell_type": "code",
   "execution_count": 13,
   "metadata": {},
   "outputs": [],
   "source": [
    "# enter your code here\n",
    "X_train, X_test, y_train, y_test = train_test_split(X, Y, test_size=0.33, random_state=42)"
   ]
  },
  {
   "cell_type": "markdown",
   "metadata": {},
   "source": [
    "### 2.3 Naive Bayes with `MultinomialNB`\n",
    "\n",
    "\n"
   ]
  },
  {
   "cell_type": "code",
   "execution_count": 14,
   "metadata": {},
   "outputs": [
    {
     "name": "stdout",
     "output_type": "stream",
     "text": [
      "Training data accuracy: 92.38%\n",
      "Test data accuracy: 77.92%\n"
     ]
    }
   ],
   "source": [
    "# enter your code here\n",
    "# call the fitted model fitted_model, for future reference:\n",
    "\n",
    "fitted_model = MultinomialNB()\n",
    "fitted_model.fit(X_train, y_train)\n",
    "\n",
    "print('Training data accuracy: {}%'.format(round(fitted_model.score(X_train, y_train),4)*100))\n",
    "print('Test data accuracy: {}%'.format(round(fitted_model.score(X_test, y_test),4)*100))"
   ]
  },
  {
   "cell_type": "code",
   "execution_count": 15,
   "metadata": {},
   "outputs": [
    {
     "data": {
      "text/html": [
       "<div>\n",
       "<style scoped>\n",
       "    .dataframe tbody tr th:only-of-type {\n",
       "        vertical-align: middle;\n",
       "    }\n",
       "\n",
       "    .dataframe tbody tr th {\n",
       "        vertical-align: top;\n",
       "    }\n",
       "\n",
       "    .dataframe thead tr th {\n",
       "        text-align: left;\n",
       "    }\n",
       "</style>\n",
       "<table border=\"1\" class=\"dataframe\">\n",
       "  <thead>\n",
       "    <tr>\n",
       "      <th></th>\n",
       "      <th></th>\n",
       "      <th colspan=\"2\" halign=\"left\">Predicted</th>\n",
       "    </tr>\n",
       "    <tr>\n",
       "      <th></th>\n",
       "      <th></th>\n",
       "      <th>Fresh</th>\n",
       "      <th>Rotten</th>\n",
       "    </tr>\n",
       "  </thead>\n",
       "  <tbody>\n",
       "    <tr>\n",
       "      <th rowspan=\"2\" valign=\"top\">Actual</th>\n",
       "      <th>Fresh</th>\n",
       "      <td>1001</td>\n",
       "      <td>655</td>\n",
       "    </tr>\n",
       "    <tr>\n",
       "      <th>Rotten</th>\n",
       "      <td>323</td>\n",
       "      <td>2450</td>\n",
       "    </tr>\n",
       "  </tbody>\n",
       "</table>\n",
       "</div>"
      ],
      "text/plain": [
       "              Predicted       \n",
       "                  Fresh Rotten\n",
       "Actual Fresh       1001    655\n",
       "       Rotten       323   2450"
      ]
     },
     "execution_count": 15,
     "metadata": {},
     "output_type": "execute_result"
    }
   ],
   "source": [
    "# get confusion matrix of model\n",
    "from sklearn.metrics import confusion_matrix\n",
    "\n",
    "pd.DataFrame(confusion_matrix(y_test, fitted_model.predict(X_test)), \n",
    "             index=[['Actual', 'Actual'], ['Fresh', 'Rotten']], \n",
    "             columns=[['Predicted','Predicted'],['Fresh','Rotten']])"
   ]
  },
  {
   "cell_type": "markdown",
   "metadata": {},
   "source": [
    "\n",
    "\n",
    "Overall, the Multinomial Naive Bayes model fits pretty well. As expected, the training data had a higher accuracy at 92%, which is quite impressive. However, when accounting for the training data accuracy (77.92%), this may show that there may be issues with the model. \n",
    "A better fit with the training data in conjunction with a lower accuracy in the test data may indicate that the model is overfitting the data. We may want to consider adjusting our model to compensate for the problem of overfitting. \n",
    "However, 77.92% accuracy on the test data is still quite impressive. "
   ]
  },
  {
   "cell_type": "markdown",
   "metadata": {},
   "source": [
    "---\n",
    "\n",
    "## Part 3\n",
    "\n",
    "### 3.1 Estimate the likelihood of your data\n",
    "\n"
   ]
  },
  {
   "cell_type": "code",
   "execution_count": 17,
   "metadata": {},
   "outputs": [],
   "source": [
    "\"\"\"\n",
    "Function\n",
    "--------\n",
    "log_likelihood\n",
    "\n",
    "Compute the log likelihood of a dataset according to a bayesian classifier. \n",
    "The Log Likelihood is defined by\n",
    "\n",
    "L = Sum_fresh(logP(fresh)) + Sum_rotten(logP(rotten))\n",
    "\n",
    "Where Sum_fresh indicates a sum over all fresh reviews, \n",
    "and Sum_rotten indicates a sum over rotten reviews\n",
    "    \n",
    "Parameters\n",
    "----------\n",
    "model : Bayesian classifier\n",
    "x : (nexample, nfeature) array\n",
    "    The input data\n",
    "y : (nexample) integer array\n",
    "    Whether each review is Fresh\n",
    "\"\"\"\n",
    "\n",
    "def log_likelihood(model, x, y):\n",
    "    prob = model.predict_log_proba(x)\n",
    "    rotten = y == 0\n",
    "    fresh = ~rotten\n",
    "    return prob[rotten, 0].sum() + prob[fresh, 1].sum()"
   ]
  },
  {
   "cell_type": "code",
   "execution_count": 18,
   "metadata": {},
   "outputs": [
    {
     "name": "stdout",
     "output_type": "stream",
     "text": [
      "Log likelihood of training data: -1663.420888830774\n",
      "Log likelihood of test data: -2513.4636677083477\n"
     ]
    }
   ],
   "source": [
    "# output the likelihood of your test data (example - you may need to \n",
    "# change the names of the variables below to match your code in 2.2 and 2.3\n",
    "\n",
    "print(\"Log likelihood of training data:\",log_likelihood(fitted_model, X_train, y_train))\n",
    "print(\"Log likelihood of test data:\",log_likelihood(fitted_model, X_test, y_test))"
   ]
  },
  {
   "cell_type": "markdown",
   "metadata": {},
   "source": [
    "### 3.2 Cross-Validation\n",
    "\n"
   ]
  },
  {
   "cell_type": "code",
   "execution_count": 19,
   "metadata": {},
   "outputs": [
    {
     "name": "stdout",
     "output_type": "stream",
     "text": [
      "Best parameters maximizing log-likelihood:\n",
      "Best alpha: 5\n",
      "Best min_df: 0.001\n",
      "Maximum log likelihood: -2482.893454790805\n"
     ]
    }
   ],
   "source": [
    "#the grid of parameters to search over\n",
    "alphas = [0, .1, 1, 5, 10, 50]\n",
    "min_dfs = [1e-5, 1e-4, 1e-3, 1e-2, 1e-1]\n",
    "\n",
    "#Find the best value for alpha and min_df, and the best classifier\n",
    "best_alpha = None\n",
    "best_min_df = None\n",
    "max_loglike = -np.inf\n",
    "\n",
    "for alpha in alphas:\n",
    "    for min_df in min_dfs:         \n",
    "        vectorizer = CountVectorizer(min_df = min_df)       \n",
    "        X, Y, _ = make_xy(reviews, vectorizer)\n",
    "        \n",
    "        #your code here\n",
    "        fitted_model = MultinomialNB(alpha=alpha)\n",
    "        loglike_score = cross_val_score(fitted_model, X, Y, scoring=log_likelihood).mean()\n",
    "        \n",
    "        if loglike_score > max_loglike:\n",
    "            best_alpha = alpha\n",
    "            best_min_df = min_df\n",
    "            max_loglike = loglike_score\n",
    "\n",
    "print(\"Best parameters maximizing log-likelihood:\")\n",
    "print(\"Best alpha:\", best_alpha)\n",
    "print(\"Best min_df:\", best_min_df)\n",
    "print(\"Maximum log likelihood:\", max_loglike)"
   ]
  },
  {
   "cell_type": "code",
   "execution_count": 20,
   "metadata": {},
   "outputs": [
    {
     "name": "stdout",
     "output_type": "stream",
     "text": [
      "Training data accuracy: 78.94%\n",
      "Test data accuracy: 74.6%\n"
     ]
    }
   ],
   "source": [
    "#Enter your code here\n",
    "\n",
    "X, Y, _ = make_xy(reviews, min_df=best_min_df)\n",
    "\n",
    "X_train, X_test, y_train, y_test = train_test_split(X, Y, test_size=0.33, random_state=42)\n",
    "\n",
    "fitted_model = MultinomialNB(alpha=best_alpha)\n",
    "fitted_model.fit(X_train, y_train)\n",
    "\n",
    "print('Training data accuracy: {}%'.format(round(fitted_model.score(X_train, y_train),4)*100))\n",
    "print('Test data accuracy: {}%'.format(round(fitted_model.score(X_test, y_test),4)*100))"
   ]
  },
  {
   "cell_type": "code",
   "execution_count": 21,
   "metadata": {},
   "outputs": [
    {
     "data": {
      "text/html": [
       "<div>\n",
       "<style scoped>\n",
       "    .dataframe tbody tr th:only-of-type {\n",
       "        vertical-align: middle;\n",
       "    }\n",
       "\n",
       "    .dataframe tbody tr th {\n",
       "        vertical-align: top;\n",
       "    }\n",
       "\n",
       "    .dataframe thead tr th {\n",
       "        text-align: left;\n",
       "    }\n",
       "</style>\n",
       "<table border=\"1\" class=\"dataframe\">\n",
       "  <thead>\n",
       "    <tr>\n",
       "      <th></th>\n",
       "      <th></th>\n",
       "      <th colspan=\"2\" halign=\"left\">Predicted</th>\n",
       "    </tr>\n",
       "    <tr>\n",
       "      <th></th>\n",
       "      <th></th>\n",
       "      <th>Fresh</th>\n",
       "      <th>Rotten</th>\n",
       "    </tr>\n",
       "  </thead>\n",
       "  <tbody>\n",
       "    <tr>\n",
       "      <th rowspan=\"2\" valign=\"top\">Actual</th>\n",
       "      <th>Fresh</th>\n",
       "      <td>941</td>\n",
       "      <td>715</td>\n",
       "    </tr>\n",
       "    <tr>\n",
       "      <th>Rotten</th>\n",
       "      <td>410</td>\n",
       "      <td>2363</td>\n",
       "    </tr>\n",
       "  </tbody>\n",
       "</table>\n",
       "</div>"
      ],
      "text/plain": [
       "              Predicted       \n",
       "                  Fresh Rotten\n",
       "Actual Fresh        941    715\n",
       "       Rotten       410   2363"
      ]
     },
     "execution_count": 21,
     "metadata": {},
     "output_type": "execute_result"
    }
   ],
   "source": [
    "# confusion matrix\n",
    "pd.DataFrame(confusion_matrix(y_test, fitted_model.predict(X_test)), \n",
    "             index=[['Actual', 'Actual'], ['Fresh', 'Rotten']], \n",
    "             columns=[['Predicted','Predicted'],['Fresh','Rotten']])"
   ]
  },
  {
   "cell_type": "markdown",
   "metadata": {},
   "source": [
    "\n",
    "\n",
    "Overall, adjusting the hyperparameters lowers the model accuracy for both the training and test data. However, the accuracy for both datasets becomes much more consistent with one another. As such, adjusting the parameters helps to address the overfitting issues that may have occurred in the original model. \n",
    "\n",
    "A higher min_df means that the features must reach a higher threshold before being a part of the bag of words. As there are less features, this may mean that those words that aren't used very much (which may be considered outliers) don't have as strong of an influence on the model. As such, the model accuracy may decrease due to these 'outlier' words being excluded. On the other hand, those words may not drastically influence the model into overfitting. \n",
    "\n",
    "A higher alpha pulls the prediction probabilities closer to 50%. In this test, the best alpha was 5, which may be higher and pulls the accuracy scores closer to 50%. \n",
    "\n",
    "It may be more advantageous to use this model with these parameters as a more consistent model between the test and training data may be more favorable in comparison to a model that has has a higher difference in accuracy between the test and training data. "
   ]
  },
  {
   "cell_type": "markdown",
   "metadata": {},
   "source": [
    "### 3.5 Interpretation\n",
    "\n"
   ]
  },
  {
   "cell_type": "code",
   "execution_count": 24,
   "metadata": {},
   "outputs": [
    {
     "data": {
      "text/plain": [
       "MultinomialNB(alpha=5, class_prior=None, fit_prior=True)"
      ]
     },
     "execution_count": 24,
     "metadata": {},
     "output_type": "execute_result"
    }
   ],
   "source": [
    "# Enter your code here\n",
    "# Re-running model using best alphas and min_df(since extra credit was based on best accuracy parameters)\n",
    "\n",
    "# creating X,Y, and features\n",
    "X, Y, feature_names = make_xy(reviews, min_df=best_min_df)\n",
    "\n",
    "# split data into train and test \n",
    "X_train, X_test, y_train, y_test = train_test_split(X, Y, test_size=0.33, random_state=42)\n",
    "\n",
    "# fitting model \n",
    "fitted_model = MultinomialNB(alpha=best_alpha)\n",
    "fitted_model.fit(X_train, y_train)"
   ]
  },
  {
   "cell_type": "code",
   "execution_count": 25,
   "metadata": {},
   "outputs": [],
   "source": [
    "# fresh = 1; rotten = 0\n",
    "feature_array = np.array(feature_names)\n",
    "x = np.identity(X_test.shape[1])\n",
    "rotten_probability = fitted_model.predict_proba(x)[:, 0] # index 0 returns probability for predicting 'rotten'\n",
    "fresh_probability = fitted_model.predict_proba(x)[:, 1] # index 1 returns probability for predicting 'fresh'\n",
    "\n",
    "# creating dataframe from the probabilities (probability of predicting ROTTEN or FRESH)\n",
    "proba_word_df = pd.DataFrame({'word':feature_array, 'rott_prob':rotten_probability, 'fresh_prob':fresh_probability}).sort_values('fresh_prob', ascending=False)"
   ]
  },
  {
   "cell_type": "code",
   "execution_count": 26,
   "metadata": {},
   "outputs": [
    {
     "name": "stdout",
     "output_type": "stream",
     "text": [
      "TOP 10 WORDS FOR PREDICTING A FRESH RATING \n",
      "\n",
      "WORD           PROBABILITY OF PREDICTING FRESH\n",
      "delight        87.78%\n",
      "gives          86.89%\n",
      "greatest       86.37%\n",
      "masterpiece    86.37%\n",
      "entertaining   85.92999999999999%\n",
      "performance    85.68%\n",
      "recent         85.48%\n",
      "powerful       85.19%\n",
      "complex        85.15%\n",
      "witty          85.15%\n"
     ]
    }
   ],
   "source": [
    "top_10_fresh = proba_word_df[['word', 'fresh_prob']].head(10) # get top 10 words that predict fresh\n",
    "\n",
    "print(\"TOP 10 WORDS FOR PREDICTING A FRESH RATING \\n\")\n",
    "print(\"{:<14s} {}\".format('WORD', 'PROBABILITY OF PREDICTING FRESH'))\n",
    "for index, row in top_10_fresh.iterrows():\n",
    "    print(\"{:<14s} {}%\".format(row['word'], round(row['fresh_prob'],4)*100))"
   ]
  },
  {
   "cell_type": "code",
   "execution_count": 27,
   "metadata": {},
   "outputs": [
    {
     "name": "stdout",
     "output_type": "stream",
     "text": [
      "TOP 10 WORDS FOR PREDICTING A ROTTEN RATING \n",
      "\n",
      "WORD           PROBABILITY OF PREDICTING ROTTEN\n",
      "unfortunately  85.38%\n",
      "lame           79.9%\n",
      "merely         79.78%\n",
      "disappointment 78.25%\n",
      "disappointing  78.25%\n",
      "pointless      78.25%\n",
      "dull           77.64%\n",
      "fails          77.49000000000001%\n",
      "tiresome       76.3%\n",
      "unfunny        76.3%\n"
     ]
    }
   ],
   "source": [
    "top_10_rott = proba_word_df[['word', 'rott_prob']].sort_values('rott_prob', ascending=False).head(10) # get top 10 words that predict rotten\n",
    "\n",
    "print(\"TOP 10 WORDS FOR PREDICTING A ROTTEN RATING \\n\")\n",
    "print(\"{:<14s} {}\".format('WORD', 'PROBABILITY OF PREDICTING ROTTEN'))\n",
    "for index, row in top_10_rott.iterrows():\n",
    "    print(\"{:<14s} {}%\".format(row['word'], round(row['rott_prob'],4)*100))"
   ]
  },
  {
   "cell_type": "markdown",
   "metadata": {},
   "source": [
    "\n",
    "\n",
    "The results for the top 10 words that predict a fresh or rotten rating make sense. The top 10 fresh words have a positive connotation associated with them (i.e., delight, greatest, entertaining, powerful, etc.). It is evident that these are words that critics would use to describe positive things about a movie, as in a movie can be 'powerful' or a 'masterpiece.' \n",
    "\n",
    "On the other hand, the top 10 words that predict a rotten rating have a negative note to them. Movies can be 'disappointing' or a 'disappointment.' Critics who feel that they wasted their time when watching a movie may describe the experience as 'pointless' and 'tiresome.' "
   ]
  },
  {
   "cell_type": "markdown",
   "metadata": {},
   "source": [
    "### 3.6 Error Analysis\n",
    "\n"
   ]
  },
  {
   "cell_type": "code",
   "execution_count": 28,
   "metadata": {},
   "outputs": [],
   "source": [
    "#Your code here\n",
    "# creating a dataframe with critic, fresh, quote, title, predicted probabilities, and predicted class (fresh/rotten)\n",
    "# NOTE: using model that uses best_min_df and best_alpha \n",
    "\n",
    "reviews_df1 = reviews[['quote', 'title']] # select critic, quote, title column from original data\n",
    "\n",
    "rot_prob = fitted_model.predict_proba(X)[:,0] # get predictions for ALL data (training and test); this is the rotten probability\n",
    "fresh_prob = fitted_model.predict_proba(X)[:,1] # get predictions for ALL data (training and test); this is the fresh probability\n",
    "class_predictions = fitted_model.predict(X) # get the predicted class (0 for rotten, 1 for fresh)\n",
    "model_predict_df = pd.DataFrame({'rotten_prob':rot_prob, 'fresh_prob':fresh_prob, 'class_pred':class_predictions, 'fresh':Y}) # convert to DF\n",
    "\n",
    "model_predict_df = pd.concat([reviews_df1, model_predict_df], axis=1) # combine DFs"
   ]
  },
  {
   "cell_type": "code",
   "execution_count": 29,
   "metadata": {},
   "outputs": [
    {
     "name": "stdout",
     "output_type": "stream",
     "text": [
      "Top quotes where model predicted FRESH, but the true rating was ROTTEN. \n",
      "\n",
      "This comedy about two self-absorbed New York couples feels like wan Woody Allen.\n",
      "A harrowing, gruesome, morbid tale of war.\n",
      "The House of the Spirits is like Gone With the Wind with the fun and excitement replaced by lofty. All that's left is the wind.\n",
      "Demme's potent adaptation of Morrison's novel may be substantial, but it is also engrossing.\n",
      "A series of emotionally wrenching moments that made My Life as a Dog a transatlantic hit when it arrived in 1985.\n"
     ]
    }
   ],
   "source": [
    "# create dataframe where the model predicted a FRESH rating, but the true rating was ROTTEN\n",
    "fresh_misprediction_df = model_predict_df[(model_predict_df['class_pred'] == 1) & (model_predict_df['fresh'] == 0)].sort_values('fresh_prob', ascending=False)\n",
    "\n",
    "top_5_fresh_mp = fresh_misprediction_df.head(5)\n",
    "\n",
    "print('Top quotes where model predicted FRESH, but the true rating was ROTTEN. \\n')\n",
    "for index, row in top_5_fresh_mp.iterrows():\n",
    "    print(row['quote'])"
   ]
  },
  {
   "cell_type": "code",
   "execution_count": 30,
   "metadata": {},
   "outputs": [
    {
     "name": "stdout",
     "output_type": "stream",
     "text": [
      "Top quotes where model predicted ROTTEN, but the true rating was FRESH. \n",
      "\n",
      "That traditional object of sorrow and compassion in American folk song and lore, the chain-gang prisoner, is given as strong a presentation as ever he has had on the screen.\n",
      "Thoroughly engaging, edge-of-the-seat entertainment.\n",
      "It's witty, smart, funny, entertaining, and you'll still like yourself in the morning for watching it.\n",
      "[Murphy] is able to invest his Professor Klump with an endearing dignity, give his lounge lizard alter ego, Buddy Love, an alligator's bite and then go on from there to play Klump's grandma. Also his mother, father and brother.\n",
      "Cobra is a sleek, extremely violent and exciting police thriller.\n"
     ]
    }
   ],
   "source": [
    "# create dataframe where the model predicted a ROTTEN rating, but the true rating was FRESH\n",
    "\n",
    "rotten_misprediction_df = model_predict_df[(model_predict_df['class_pred'] == 0) & (model_predict_df['fresh'] == 1)].sort_values('rotten_prob', ascending=False)\n",
    "\n",
    "top_5_rotten_mp = rotten_misprediction_df.head(5)\n",
    "\n",
    "\n",
    "print('Top quotes where model predicted ROTTEN, but the true rating was FRESH. \\n')\n",
    "for index, row in top_5_rotten_mp.iterrows():\n",
    "    print(row['quote'])"
   ]
  },
  {
   "cell_type": "markdown",
   "metadata": {},
   "source": [
    "### Probability for \"This movie is not remarkable, touching, or superb in any way\" "
   ]
  },
  {
   "cell_type": "code",
   "execution_count": 31,
   "metadata": {},
   "outputs": [],
   "source": [
    "# creating separate dataframe with just the quote\n",
    "test_quote = pd.Series([\"This movie is not remarkable, touching, or superb in any way.\"])\n",
    "test_quote_df = pd.DataFrame({'quote':test_quote})\n",
    "\n",
    "# combining dataframes of the test quote and the original reviews data\n",
    "reviews_test_quote_df = pd.concat([reviews, test_quote_df], ignore_index=True)\n",
    "\n",
    "# vectorizing the new dataframe\n",
    "X, Y, feature_names = make_xy(reviews_test_quote_df, min_df=best_min_df)"
   ]
  },
  {
   "cell_type": "code",
   "execution_count": 32,
   "metadata": {},
   "outputs": [],
   "source": [
    "fresh_prob = fitted_model.predict_proba(X)[:,1] # get predictions for ALL data (training and test); this is the fresh probability\n",
    "reviews_test_quote_df['fresh_probability'] = fresh_prob"
   ]
  },
  {
   "cell_type": "code",
   "execution_count": 33,
   "metadata": {},
   "outputs": [
    {
     "data": {
      "text/html": [
       "<div>\n",
       "<style scoped>\n",
       "    .dataframe tbody tr th:only-of-type {\n",
       "        vertical-align: middle;\n",
       "    }\n",
       "\n",
       "    .dataframe tbody tr th {\n",
       "        vertical-align: top;\n",
       "    }\n",
       "\n",
       "    .dataframe thead th {\n",
       "        text-align: right;\n",
       "    }\n",
       "</style>\n",
       "<table border=\"1\" class=\"dataframe\">\n",
       "  <thead>\n",
       "    <tr style=\"text-align: right;\">\n",
       "      <th></th>\n",
       "      <th>quote</th>\n",
       "      <th>fresh_probability</th>\n",
       "    </tr>\n",
       "  </thead>\n",
       "  <tbody>\n",
       "    <tr>\n",
       "      <th>13419</th>\n",
       "      <td>This movie is not remarkable, touching, or sup...</td>\n",
       "      <td>0.967297</td>\n",
       "    </tr>\n",
       "  </tbody>\n",
       "</table>\n",
       "</div>"
      ],
      "text/plain": [
       "                                                   quote  fresh_probability\n",
       "13419  This movie is not remarkable, touching, or sup...           0.967297"
      ]
     },
     "execution_count": 33,
     "metadata": {},
     "output_type": "execute_result"
    }
   ],
   "source": [
    "reviews_test_quote_df[reviews_test_quote_df['quote']==test_quote[0]][['quote', 'fresh_probability']]"
   ]
  },
  {
   "cell_type": "markdown",
   "metadata": {},
   "source": [
    "\n",
    "\n",
    "Overall, we observe how the Naive Bayes model of assuming that the words and features are independent of each other can be a downfall when predicting whether a quote indicates FRESH or ROTTEN. Words are used in conjunction with one another and some words which may be negative on their own, may become positive when used in conjunction with other words (and vice versa). \n",
    "\n",
    "One other thing to note is that some of the quotes can be misinterpreted, even by a human reader. For example, the quote \"A tender, elaborately detailed account of a life curtailed\" has a positive tone to it, and the fitted model predicted a FRESH rating for this quote. However, the actual rating for this was ROTTEN. This may show that there are some quotes that may not give the whole story as to why a FRESH or ROTTEN rating was give, or that the rating may have been recorded incorrectly. It also shows how the model may see some words as having a higher probability of FRESH or ROTTEN rating independently, but having the context of the quote really helps to discern the intent of the critic and the rating. \n",
    "\n",
    "##### Analysis of test quote of: \"This movie is not remarkable, touching, or superb in any way.\"\n",
    "This quote is a perfect example of the shortcomings of Naive Bayes. This quote received a 96.73% probability of being a FRESH rating, which is absurdly high given that the quote is negative overall.. This is probably because the quote contains words that have high probabilities of rating a quote as FRESH (i.e., remarkable, touching, superb). However, simply adding the word 'not' changes the tone of the review, and would likely result in a ROTTEN rating, despite the model giving it a high probability. "
   ]
  }
 ],
 "metadata": {
  "kernel_info": {
   "name": "python3"
  },
  "kernelspec": {
   "display_name": "Python 3",
   "language": "python",
   "name": "python3"
  },
  "language_info": {
   "codemirror_mode": {
    "name": "ipython",
    "version": 3
   },
   "file_extension": ".py",
   "mimetype": "text/x-python",
   "name": "python",
   "nbconvert_exporter": "python",
   "pygments_lexer": "ipython3",
   "version": "3.7.1"
  },
  "nteract": {
   "version": "0.12.3"
  }
 },
 "nbformat": 4,
 "nbformat_minor": 1
}
